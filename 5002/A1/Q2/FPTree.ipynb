{
 "cells": [
  {
   "cell_type": "markdown",
   "metadata": {},
   "source": [
    "# Q2. FP-Tree (60 marks)"
   ]
  },
  {
   "cell_type": "markdown",
   "metadata": {},
   "source": [
    "### Summary:\n",
    "1. Quick glance on the transactions\n",
    "2. Find frequent patterns\n",
    "3. Find conditional tree with height more than 1\n",
    "4. Evaluate function efficiency "
   ]
  },
  {
   "cell_type": "code",
   "execution_count": 1,
   "metadata": {},
   "outputs": [],
   "source": [
    "import pandas as pd\n",
    "import numpy as np\n",
    "import csv,os\n",
    "from collections import OrderedDict,Counter"
   ]
  },
  {
   "cell_type": "markdown",
   "metadata": {},
   "source": [
    "### 1. Quick glance on the transactions"
   ]
  },
  {
   "cell_type": "code",
   "execution_count": 2,
   "metadata": {},
   "outputs": [
    {
     "name": "stdout",
     "output_type": "stream",
     "text": [
      "There are totally 7011 transactions\n",
      "Among them, 169 different types of 39607 items have been purchased\n",
      "\n",
      "Data structure of transactions:\n",
      "{('citrus fruit', 'semi-finished bread', 'margarine', 'ready soups'): 1, ('tropical fruit', 'yogurt', 'coffee'): 1, ('whole milk',): 121, ('pip fruit', 'yogurt', 'cream cheese ', 'meat spreads'): 1, ('other vegetables', 'whole milk', 'condensed milk', 'long life bakery product'): 1, ('whole milk', 'butter', 'yogurt', 'rice', 'abrasive cleaner'): 1, ('rolls/buns',): 109, ('other vegetables', 'UHT-milk', 'rolls/buns', 'bottled beer', 'liquor (appetizer)'): 1, ('pot plants',): 10, ('whole milk', 'cereals'): 3}\n"
     ]
    }
   ],
   "source": [
    "PATH=r\"C:\\Users\\zjw\\OneDrive\\HKUST\\5002\\MSBD5002_Assignment_1\\MSBD5002_Assignment_1\"  # path to dataset file\n",
    "with open(PATH+\"\\groceries.csv\", newline='') as f:\n",
    "    transactions=[]\n",
    "    reader = csv.reader(f)\n",
    "    for row in reader:\n",
    "        row=[x for x in row if x]\n",
    "        transactions.append(row)\n",
    "flatten = lambda L: [item for sublist in L for item in sublist]\n",
    "transactions = Counter(list(map(tuple,transactions)))\n",
    "print(\"There are totally %i transactions\"%len(transactions))\n",
    "print(\"Among them, %i different types of %i items have been purchased\"%(len(set(flatten(transactions))),len(flatten(transactions))))\n",
    "print(\"\\nData structure of transactions:\")\n",
    "print(dict(list(transactions.items())[:10]))"
   ]
  },
  {
   "cell_type": "markdown",
   "metadata": {},
   "source": [
    "### 2. Find frequent patterns"
   ]
  },
  {
   "cell_type": "code",
   "execution_count": 3,
   "metadata": {},
   "outputs": [],
   "source": [
    "class TreeNode(object):\n",
    "    \"\"\" Node in FPTree\n",
    "    \n",
    "    Attributes:\n",
    "        name: A string of item name\n",
    "        parent: TreeNode of parent\n",
    "        cnt: An integer count of item occurence in this path\n",
    "        children: A dict to store children TreeNode, eg.{TreeNode.name: TreeNode,}. \n",
    "    \"\"\"\n",
    "    def __init__(self,name='',cnt=1,parent=None):\n",
    "        self.name=name\n",
    "        self.cnt=cnt\n",
    "        self.parent=parent\n",
    "        self.children={}\n",
    "    # For display\n",
    "    def __str__(self):\n",
    "        return \"Name: '%s', Count: %s, Children: %s\" % \\\n",
    "    (self.name, self.cnt, \"[\"+\",\".join(list(self.children.keys()))+\"]\")\n",
    "    __repr__=__str__"
   ]
  },
  {
   "cell_type": "code",
   "execution_count": 4,
   "metadata": {},
   "outputs": [],
   "source": [
    "class FPTree(object):\n",
    "    \"\"\" \n",
    "    Args:\n",
    "        None\n",
    "    Attributes:\n",
    "        support: An integer indicate minimum support thresholds\n",
    "        header_table: A dict store item with its occurence and Node, eg.{item: (cnt,[nodes])}\n",
    "        root: A TreeNode instance of main FP tree root\n",
    "        frequent_patterns: A dict to store frequent patterns with its occurence\n",
    "        record: A list of TreeNode recording root of conditional FP tree with height more than 1. \n",
    "    Method:\n",
    "        |--@fit\n",
    "            |--@_process\n",
    "            |--@_build_tree\n",
    "                |--@_insert_tree\n",
    "            |--@_mine_tree\n",
    "                |--@_get_prefix_path\n",
    "    \"\"\" \n",
    "    def fit(self,transactions,support):\n",
    "        \"\"\"\n",
    "        ### Find frequent patterns from transactions ###\n",
    "        Args:\n",
    "            transactions: dict type, itemset with occurence, eg.{('a','b'):3,}\n",
    "            support: Minimum support thresholds\n",
    "        Return:\n",
    "            None\n",
    "        \"\"\"\n",
    "        self.support=support\n",
    "        self.record=[]\n",
    "        self.frequent_patterns={}\n",
    "        transactions,self.header_table=self._process(transactions)\n",
    "        self.root=self._build_tree(transactions,self.header_table)\n",
    "        self._mine_tree(self.header_table,())\n",
    "        \n",
    "    def _process(self,transactions):\n",
    "        \"\"\"\n",
    "        ### Re-rank and filter transactions ###\n",
    "        Args:\n",
    "            transactions: A dict to store itemset with occurence, eg.{('a','b'):3,}\n",
    "        Return:\n",
    "            new_transactions: A dict to store itemset with occurence which meet frequency order and support thresholds, eg.{('a','b'):3,}\n",
    "            header_table: An new initialized dict with item name and its occurence, eg.{item: (cnt,[])}\n",
    "        \"\"\"\n",
    "        # Count frequency of each item\n",
    "        frequency={}\n",
    "        for transaction,cnt in transactions.items():\n",
    "            for item in transaction:\n",
    "                frequency[item] = frequency.get(item,0) + cnt\n",
    "        frequency={k:v for k, v in frequency.items() if v>=self.support}\n",
    "        frequent_item=[item for item,cnt in Counter(frequency).most_common()]        \n",
    "        # Generate new transactions by re-rank and filter frequent item\n",
    "        rerank = lambda T:tuple(sorted([x for x in T if x in frequent_item],key=lambda x:frequent_item.index(x)))\n",
    "        new_transactions={}\n",
    "        for transaction, cnt in transactions.items():\n",
    "            transaction = rerank(transaction)\n",
    "            if transaction:\n",
    "                new_transactions[transaction]=new_transactions.get(transaction,0)+cnt\n",
    "        # Initialize header_table\n",
    "        header_table = {k:(v,[]) for k,v in frequency.items()}\n",
    "        return new_transactions,header_table\n",
    "        \n",
    "        \n",
    "    def _build_tree(self,transactions,header_table): \n",
    "        \"\"\"\n",
    "        ### Build FP Tree while updating header_table ### \n",
    "        Args:\n",
    "            transactions: A dict to store itemset with occurence, eg.{('a','b'):3,}\n",
    "            header_table: A dict indicate an new initialized header_table\n",
    "        Return:\n",
    "            root: TreeNode of root of FP tree\n",
    "        \"\"\"\n",
    "        root = TreeNode('Null Set')\n",
    "        for transaction,cnt in transactions.items():\n",
    "            self._insert_tree(root,transaction, cnt, header_table)\n",
    "        return root\n",
    "    \n",
    "\n",
    "    def _insert_tree(self,root,transaction,cnt, header_table):\n",
    "        \"\"\"\n",
    "        ### Insert transaction into FP tree, more generally update the tree according to the header_table ###\n",
    "        Args:\n",
    "            root: A TreeNode indicate where to insert the next item\n",
    "            transaction: A tuple of itemset, eg.('a','b','c')\n",
    "            cnt: An integer of the occurence of the itemset\n",
    "            header_table: A dict store item with its occurence and Node, eg.{item: (cnt,[nodes])}\n",
    "        Return:\n",
    "            None(update root)\n",
    "        \"\"\"\n",
    "        if len(transaction)==0: \n",
    "            return\n",
    "        item = transaction[0]\n",
    "        if item not in root.children:\n",
    "            root.children[item] = TreeNode(item, 0, root)\n",
    "            header_table[item][1].append(root.children[item]) # update TreeNode\n",
    "        this_node = root.children[item]\n",
    "        this_node.cnt += cnt\n",
    "        self._insert_tree(this_node,transaction[1:],cnt,header_table)\n",
    "        \n",
    "    \n",
    "    def _get_prefix_path(self, item, header_table):\n",
    "        \"\"\"\n",
    "        ### Find all prefix path of item in a FP tree ###\n",
    "        Args:\n",
    "            item: String of item name\n",
    "            header_table: A dict store item with its occurence and Node, eg.{item: (cnt,[nodes])}\n",
    "        Return:\n",
    "            paths: A dict stored itemsets with their occurence \n",
    "        \"\"\" \n",
    "        paths={}\n",
    "        for node in header_table[item][1]:\n",
    "            path = ()\n",
    "            cnt = node.cnt\n",
    "            _node = node.parent\n",
    "            while _node.parent:\n",
    "                path += (_node.name,)\n",
    "                _node = _node.parent\n",
    "            paths[path]=cnt\n",
    "        return paths\n",
    "    \n",
    "    \n",
    "    def _mine_tree(self, header_table,condition):\n",
    "        \"\"\"\n",
    "        ### Mine frequent pattern from conditional FP tree given condition pattern and header table ###\n",
    "        Args:\n",
    "            condition: tuple indicate conditional pattern\n",
    "        Return:\n",
    "            None(update self.frequent_patterns)\n",
    "        \"\"\"\n",
    "        L=[v[0] for v in sorted(header_table.items(), key=lambda kv:kv[1][0])]\n",
    "        for item in L:   # start from the least frequent item\n",
    "            new_condition = condition + (item,)\n",
    "            self.frequent_patterns[new_condition] = header_table[item][0] # update self.frequent_patterns\n",
    "            paths = self._get_prefix_path(item,header_table) # paths here is trasactions we need to build FP-tree\n",
    "            if paths:\n",
    "                transactions,conditional_header_table=self._process(paths)\n",
    "                # whether excatly exsit frequent pattern\n",
    "                if conditional_header_table:\n",
    "                    conditional_tree=self._build_tree(transactions,conditional_header_table) # build new conditional tree with new condition\n",
    "                    ############################################################# \n",
    "                    # This is a special block to record root of conditional tree with height larger than 1. \n",
    "                    # Nothing to do with FP-tree Algorithm. \n",
    "                    if max(map(len,transactions.keys()))>=1:\n",
    "                        self.record.append(conditional_tree)\n",
    "                    ############################################################# \n",
    "                    self._mine_tree(conditional_header_table,new_condition) # mine with iteratively\n",
    "                "
   ]
  },
  {
   "cell_type": "code",
   "execution_count": 5,
   "metadata": {
    "scrolled": true
   },
   "outputs": [
    {
     "data": {
      "text/plain": [
       "61"
      ]
     },
     "execution_count": 5,
     "metadata": {},
     "output_type": "execute_result"
    },
    {
     "data": {
      "text/plain": [
       "11"
      ]
     },
     "execution_count": 5,
     "metadata": {},
     "output_type": "execute_result"
    }
   ],
   "source": [
    "fpt=FPTree()\n",
    "fpt.fit(transactions,300)\n",
    "len(fpt.frequent_patterns)\n",
    "len(fpt.record)"
   ]
  },
  {
   "cell_type": "code",
   "execution_count": 6,
   "metadata": {},
   "outputs": [],
   "source": [
    "# save the result\n",
    "f=lambda s:\"'\"+s+\"'\"\n",
    "fp=list(map(lambda x:\"{\" + ', '.join(map(f,list(x)))+ \"}\",fpt.frequent_patterns.keys()))\n",
    "if not os.path.exists(PATH+\"\\\\results.csv\"):\n",
    "    print(\"result.csv has been saved at \" + PATH)\n",
    "    pd.DataFrame({'patterns':fp}).to_csv(PATH+\"\\\\results.csv\",header=False,index=False)"
   ]
  },
  {
   "cell_type": "markdown",
   "metadata": {},
   "source": [
    "### 3. Find conditional tree with height more than 1"
   ]
  },
  {
   "cell_type": "code",
   "execution_count": 7,
   "metadata": {},
   "outputs": [
    {
     "data": {
      "text/plain": [
       "[Name: 'Null Set', Count: 1, Children: [whole milk],\n",
       " Name: 'Null Set', Count: 1, Children: [whole milk],\n",
       " Name: 'Null Set', Count: 1, Children: [whole milk],\n",
       " Name: 'Null Set', Count: 1, Children: [rolls/buns],\n",
       " Name: 'Null Set', Count: 1, Children: [other vegetables,whole milk],\n",
       " Name: 'Null Set', Count: 1, Children: [other vegetables,whole milk],\n",
       " Name: 'Null Set', Count: 1, Children: [whole milk],\n",
       " Name: 'Null Set', Count: 1, Children: [whole milk,rolls/buns,other vegetables],\n",
       " Name: 'Null Set', Count: 1, Children: [rolls/buns,whole milk,other vegetables],\n",
       " Name: 'Null Set', Count: 1, Children: [other vegetables,whole milk],\n",
       " Name: 'Null Set', Count: 1, Children: [whole milk]]"
      ]
     },
     "execution_count": 7,
     "metadata": {},
     "output_type": "execute_result"
    }
   ],
   "source": [
    "fpt.record # We have build-in function to find conditional tree in Class FPTree"
   ]
  },
  {
   "cell_type": "markdown",
   "metadata": {},
   "source": [
    "We find 5 conditional tree with height more than 1 as below:"
   ]
  },
  {
   "cell_type": "code",
   "execution_count": 8,
   "metadata": {},
   "outputs": [
    {
     "data": {
      "text/plain": [
       "['Null Set 1', ['whole milk 317']]"
      ]
     },
     "execution_count": 8,
     "metadata": {},
     "output_type": "execute_result"
    },
    {
     "data": {
      "text/plain": [
       "['Null Set 1', ['whole milk 300']]"
      ]
     },
     "execution_count": 8,
     "metadata": {},
     "output_type": "execute_result"
    },
    {
     "data": {
      "text/plain": [
       "['Null Set 1', ['whole milk 327']]"
      ]
     },
     "execution_count": 8,
     "metadata": {},
     "output_type": "execute_result"
    },
    {
     "data": {
      "text/plain": [
       "['Null Set 1', ['rolls/buns 301']]"
      ]
     },
     "execution_count": 8,
     "metadata": {},
     "output_type": "execute_result"
    },
    {
     "data": {
      "text/plain": [
       "['Null Set 1',\n",
       " ['other vegetables 185', ['whole milk 416', ['other vegetables 168']]]]"
      ]
     },
     "execution_count": 8,
     "metadata": {},
     "output_type": "execute_result"
    },
    {
     "data": {
      "text/plain": [
       "['Null Set 1',\n",
       " ['other vegetables 238', ['whole milk 481', ['other vegetables 228']]]]"
      ]
     },
     "execution_count": 8,
     "metadata": {},
     "output_type": "execute_result"
    },
    {
     "data": {
      "text/plain": [
       "['Null Set 1', ['whole milk 338']]"
      ]
     },
     "execution_count": 8,
     "metadata": {},
     "output_type": "execute_result"
    },
    {
     "data": {
      "text/plain": [
       "['Null Set 1',\n",
       " [['whole milk 551',\n",
       "   [['other vegetables 219', ['rolls/buns 59']], 'rolls/buns 94']],\n",
       "  'rolls/buns 131',\n",
       "  ['other vegetables 208', ['rolls/buns 54']]]]"
      ]
     },
     "execution_count": 8,
     "metadata": {},
     "output_type": "execute_result"
    },
    {
     "data": {
      "text/plain": [
       "['Null Set 1',\n",
       " [['rolls/buns 290', ['other vegetables 54']],\n",
       "  ['whole milk 394',\n",
       "   ['other vegetables 94', ['rolls/buns 87', ['other vegetables 43']]]],\n",
       "  'other vegetables 131']]"
      ]
     },
     "execution_count": 8,
     "metadata": {},
     "output_type": "execute_result"
    },
    {
     "data": {
      "text/plain": [
       "['Null Set 1',\n",
       " ['other vegetables 243', ['whole milk 557', ['other vegetables 176']]]]"
      ]
     },
     "execution_count": 8,
     "metadata": {},
     "output_type": "execute_result"
    },
    {
     "data": {
      "text/plain": [
       "['Null Set 1', ['whole milk 736']]"
      ]
     },
     "execution_count": 8,
     "metadata": {},
     "output_type": "execute_result"
    }
   ],
   "source": [
    "# Print the conditional tree with height more than 1 as required\n",
    "def dfs(root):\n",
    "    res=root.name+\" \"+str(root.cnt)\n",
    "    return [res,[dfs(v) for k,v in root.children.items()]] if root.children else res\n",
    "# print conditonal tree as required\n",
    "for root in fpt.record:\n",
    "    dfs(root)"
   ]
  },
  {
   "cell_type": "markdown",
   "metadata": {},
   "source": [
    "### 4. Evaluate function efficiency "
   ]
  },
  {
   "cell_type": "code",
   "execution_count": 9,
   "metadata": {},
   "outputs": [
    {
     "name": "stdout",
     "output_type": "stream",
     "text": [
      "171 ms ± 3.6 ms per loop (mean ± std. dev. of 7 runs, 1 loop each)\n"
     ]
    }
   ],
   "source": [
    "%timeit fpt.fit(transactions,300)"
   ]
  }
 ],
 "metadata": {
  "kernelspec": {
   "display_name": "Python 3",
   "language": "python",
   "name": "python3"
  },
  "language_info": {
   "codemirror_mode": {
    "name": "ipython",
    "version": 3
   },
   "file_extension": ".py",
   "mimetype": "text/x-python",
   "name": "python",
   "nbconvert_exporter": "python",
   "pygments_lexer": "ipython3",
   "version": "3.6.6"
  },
  "toc": {
   "base_numbering": 1,
   "nav_menu": {},
   "number_sections": true,
   "sideBar": true,
   "skip_h1_title": false,
   "title_cell": "Table of Contents",
   "title_sidebar": "Contents",
   "toc_cell": false,
   "toc_position": {},
   "toc_section_display": true,
   "toc_window_display": false
  },
  "varInspector": {
   "cols": {
    "lenName": 16,
    "lenType": 16,
    "lenVar": 40
   },
   "kernels_config": {
    "python": {
     "delete_cmd_postfix": "",
     "delete_cmd_prefix": "del ",
     "library": "var_list.py",
     "varRefreshCmd": "print(var_dic_list())"
    },
    "r": {
     "delete_cmd_postfix": ") ",
     "delete_cmd_prefix": "rm(",
     "library": "var_list.r",
     "varRefreshCmd": "cat(var_dic_list()) "
    }
   },
   "oldHeight": 294.016518,
   "position": {
    "height": "84.5023px",
    "left": "1437.33px",
    "right": "20px",
    "top": "119.977px",
    "width": "383.009px"
   },
   "types_to_exclude": [
    "module",
    "function",
    "builtin_function_or_method",
    "instance",
    "_Feature"
   ],
   "varInspector_section_display": "none",
   "window_display": true
  }
 },
 "nbformat": 4,
 "nbformat_minor": 2
}
